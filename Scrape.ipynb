{
 "cells": [
  {
   "cell_type": "code",
   "execution_count": null,
   "metadata": {},
   "outputs": [],
   "source": [
    "#import libraries\n",
    "import time\n",
    "from pathlib import Path\n",
    "import pandas as pd\n",
    "from selenium import webdriver\n",
    "from selenium.webdriver.support.ui import WebDriverWait\n",
    "from selenium.webdriver.common.by import By\n",
    "from selenium.webdriver.support import expected_conditions as EC\n",
    "from selenium.webdriver.edge.options import Options\n",
    "from selenium.webdriver.common.keys import Keys\n",
    "from webdriver_manager.chrome import ChromeDriverManager\n",
    "from selenium.webdriver.common.by import By\n",
    "from selenium.common.exceptions import NoSuchElementException"
   ]
  },
  {
   "cell_type": "markdown",
   "metadata": {},
   "source": [
    "Scrape 2 pages of the reviews for a single product listing using product URL.<br /> Note: Product must have more than 1 review page. The code must be generic and should work for every product listing URL, with proper checks in place."
   ]
  },
  {
   "cell_type": "code",
   "execution_count": null,
   "metadata": {},
   "outputs": [],
   "source": [
    "url = 'https://www.daraz.pk/products/100-waterproof-washing-machine-cover-top-loader-automatic-semi-auto-single-bowl-all-brands-supported-durable-oxford-polyester-washer-and-dryer-covers-for-sheds-garages-balcony-blue-7kg8kg9kg10kg11kg12kg13kg15kg-i250273365-s1468026978.html?'\n",
    "driver = webdriver.Chrome(ChromeDriverManager().install())\n",
    "\n",
    "driver.get(url)\n",
    "driver.maximize_window()\n",
    "\n",
    "reviewlist = []\n",
    "names = []\n",
    "\n",
    "for x in range(2):\n",
    "\n",
    "    review = driver.find_elements(By.CLASS_NAME,'item')\n",
    "    name = driver.find_elements(By.CLASS_NAME,'middle')\n",
    "\n",
    "    for i in name:\n",
    "        names.append(i.text[3:-17])\n",
    "\n",
    "    for i in review:\n",
    "        reviewlist.append(i.driver.find_elements(By.CLASS_NAME,'item-content').driver.find_elements(By.CLASS_NAME,'content').text.replace('\\n',''))    \n",
    "\n",
    "    driver.find_element(By.XPATH,'//*[@id=\"module_product_review\"]/div/div[3]/div[2]/div/button[2]').click()\n",
    "    time.sleep(5)\n",
    "\n",
    "df = pd.DataFrame({'Name':names,'Review':reviewlist})\n",
    "df"
   ]
  },
  {
   "cell_type": "markdown",
   "metadata": {},
   "source": [
    "# Question 2"
   ]
  },
  {
   "cell_type": "markdown",
   "metadata": {},
   "source": [
    "Scrape 80 items for a keyword search e.g., 'mobile covers'<br/>Note: Must use \"click()\" function of webElement, URL changing for pages is not allowed. The code must be generic and should work for every keyword, with proper checks in place. Bonus for also scraping country and Daraz Mall availability."
   ]
  },
  {
   "cell_type": "code",
   "execution_count": null,
   "metadata": {},
   "outputs": [],
   "source": [
    "driver = webdriver.Chrome(ChromeDriverManager().install())\n",
    "query = 'mobile cover'\n",
    "driver.get(f'https://www.daraz.pk/catalog/?from=input&q={query}')\n",
    "driver.maximize_window()"
   ]
  },
  {
   "cell_type": "code",
   "execution_count": null,
   "metadata": {},
   "outputs": [],
   "source": [
    "pricelist = []\n",
    "namelist = []\n",
    "norevlist = []\n",
    "starslist = []\n",
    "\n",
    "countrylist = []                #Bonus\n",
    "\n",
    "\n",
    "def extract_data():\n",
    "    productdetails = driver.find_elements_by_class_name('c16H9d')\n",
    "    product = driver.find_elements_by_class_name('c2prKC')\n",
    "\n",
    "    count = 0\n",
    "    \n",
    "    driver.execute_script(\"window.scrollTo(0, window.scrollY + 100)\")\n",
    "    \n",
    "    for i in range(len(product)):\n",
    "\n",
    "        productdetails = driver.find_elements_by_class_name('c16H9d')\n",
    "\n",
    "        productdetails[i].find_element_by_css_selector('a').click()\n",
    "        time.sleep(1)\n",
    "        \n",
    "        starslist.append(driver.find_element_by_class_name('score-average').text)\n",
    "        \n",
    "        driver.execute_script(\"window.history.go(-1)\")\n",
    "        time.sleep(1)\n",
    "        \n",
    "        product = driver.find_elements_by_class_name('c2prKC')\n",
    "\n",
    "        pricelist.append(product[i].find_element_by_class_name('c13VH6').text.replace(\"Rs. \",\"\"))\n",
    "        namelist.append(product[i].find_element_by_class_name('c16H9d').text)\n",
    "        norevlist.append(product[i].find_element_by_class_name('c3XbGJ').text.replace(\"(\",\"\").replace(\")\",\"\"))\n",
    "        countrylist.append(product[i].find_element_by_class_name('c2i43- ').text)\n",
    "\n",
    "        count+=1\n",
    "        if count == 4:\n",
    "            driver.execute_script(\"window.scrollTo(0, window.scrollY + 450)\")\n",
    "            count = 0\n",
    "\n",
    "extract_data()\n",
    "driver.find_element_by_xpath('//*[@id=\"root\"]/div/div[2]/div[1]/div/div[1]/div[3]/div/ul/li[9]/a').click()\n",
    "time.sleep(5)\n",
    "extract_data()\n",
    "\n",
    "\n"
   ]
  },
  {
   "cell_type": "code",
   "execution_count": null,
   "metadata": {},
   "outputs": [],
   "source": [
    "df = pd.DataFrame({'Name':namelist,'Price':pricelist,'Stars':starslist,'Review':norevlist, 'Country':countrylist})\n",
    "df"
   ]
  },
  {
   "cell_type": "markdown",
   "metadata": {},
   "source": [
    "# Question 3"
   ]
  },
  {
   "cell_type": "markdown",
   "metadata": {},
   "source": [
    "Which Products are on Flash sale? Display Product name, Actual Price, Discounted Price, Discount Percentage, Rating, No. of Reviews, Top 3 reviews displayed.\n",
    "\n",
    "Display output must be like this. Products may vary."
   ]
  },
  {
   "cell_type": "code",
   "execution_count": null,
   "metadata": {},
   "outputs": [],
   "source": [
    "url = 'https://www.daraz.pk/'\n",
    "driver = webdriver.Chrome(ChromeDriverManager().install())\n",
    "\n",
    "driver.get(url)\n",
    "driver.maximize_window()\n"
   ]
  },
  {
   "cell_type": "code",
   "execution_count": null,
   "metadata": {},
   "outputs": [],
   "source": [
    "productname = []\n",
    "actualprice = []\n",
    "dispric = []\n",
    "disprc = []\n",
    "\n",
    "driver.execute_script(\"window.scrollTo(0, window.scrollY + 650)\")\n",
    "driver.refresh()\n",
    "driver.find_element_by_xpath('//*[@id=\"hp-flash-sale\"]/div[2]/div[1]/a').click()\n",
    "time.sleep(2)\n",
    "\n",
    "flashsaleframe = driver.find_element_by_class_name('item-list-content')\n",
    "flashsaleproducts = WebDriverWait(flashsaleframe, 5).until( EC.visibility_of_all_elements_located((By.CLASS_NAME,\"unit-content\")) )\n",
    "\n",
    "for i in flashsaleproducts:\n",
    "    productname.append(i.find_element_by_class_name('sale-title').text)\n",
    "    temp = i.find_element_by_class_name('origin-price').text\n",
    "    disprc.append(temp[-4:-1].replace(\"-\",\"\"))\n",
    "    actualprice.append(i.find_element_by_class_name('origin-price-value').text.replace(\"Rs.\",\"\"))\n",
    "\n",
    "    dispric.append(i.find_element_by_class_name('sale-price').text.replace(\"Rs.\",\"\"))"
   ]
  },
  {
   "cell_type": "code",
   "execution_count": null,
   "metadata": {},
   "outputs": [],
   "source": [
    "df = pd.DataFrame({'Name':productname,'Actual Price':actualprice,'Discounted Price':dispric,'Discounted Percentage':disprc})\n"
   ]
  },
  {
   "cell_type": "code",
   "execution_count": null,
   "metadata": {},
   "outputs": [],
   "source": [
    "df.to_csv(\"Q3.csv\",index=False)\n",
    "pd.read_csv(\"Q3.csv\")"
   ]
  }
 ],
 "metadata": {
  "interpreter": {
   "hash": "b3ba2566441a7c06988d0923437866b63cedc61552a5af99d1f4fb67d367b25f"
  },
  "kernelspec": {
   "display_name": "Python 3.8.8 64-bit ('base': conda)",
   "name": "python3"
  },
  "language_info": {
   "codemirror_mode": {
    "name": "ipython",
    "version": 3
   },
   "file_extension": ".py",
   "mimetype": "text/x-python",
   "name": "python",
   "nbconvert_exporter": "python",
   "pygments_lexer": "ipython3",
   "version": "3.11.1"
  }
 },
 "nbformat": 4,
 "nbformat_minor": 2
}
